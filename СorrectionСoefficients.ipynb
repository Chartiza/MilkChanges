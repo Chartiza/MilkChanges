{
 "cells": [
  {
   "cell_type": "markdown",
   "metadata": {},
   "source": [
    "## Script is designed to Comparison of test results of the same milk samples in two different laboratories\n",
    "\n",
    "The raw data was taken from the DHI laboratory of AO Agroplem and one other DHI laboratory. <br>\n",
    "The analysis was carried out on a FOSS machine and Bently machine. <br>\n",
    "Milk probe were from the Russian population of black-and-white Holstein were analysed."
   ]
  },
  {
   "cell_type": "code",
   "execution_count": 5,
   "metadata": {},
   "outputs": [],
   "source": [
    "import matplotlib.pyplot as plt\n",
    "import pandas as pd\n",
    "import numpy as np\n",
    "import scipy.stats as stats\n",
    "from PIL import Image, ImageDraw, ImageFont, ImageFilter\n",
    "from pandas.plotting import table\n",
    "import seaborn as sns; sns.set(style=\"white\", color_codes=True)\n",
    "import six, os\n",
    "from sklearn.linear_model import LinearRegression\n",
    "from scipy import stats"
   ]
  },
  {
   "cell_type": "code",
   "execution_count": 7,
   "metadata": {},
   "outputs": [
    {
     "data": {
      "text/html": [
       "<div>\n",
       "<style scoped>\n",
       "    .dataframe tbody tr th:only-of-type {\n",
       "        vertical-align: middle;\n",
       "    }\n",
       "\n",
       "    .dataframe tbody tr th {\n",
       "        vertical-align: top;\n",
       "    }\n",
       "\n",
       "    .dataframe thead th {\n",
       "        text-align: right;\n",
       "    }\n",
       "</style>\n",
       "<table border=\"1\" class=\"dataframe\">\n",
       "  <thead>\n",
       "    <tr style=\"text-align: right;\">\n",
       "      <th></th>\n",
       "      <th>Порядковый номер пробы</th>\n",
       "      <th>Инв. № животного</th>\n",
       "      <th>a-Жир, %</th>\n",
       "      <th>a-Сырой белок, %</th>\n",
       "      <th>a-Истинный белок, %</th>\n",
       "      <th>a-Лактоза, %</th>\n",
       "      <th>a-С.В., %</th>\n",
       "      <th>a-СОМО, %</th>\n",
       "      <th>a-РН, ед.</th>\n",
       "      <th>a-Мочевина, мг%</th>\n",
       "      <th>a-Ацетон, мM/дм3</th>\n",
       "      <th>a-БГБ, мM/дм3</th>\n",
       "      <th>a-Казеин В, %</th>\n",
       "      <th>a-Точка замерзания, 0Cx10-3</th>\n",
       "      <th>a-Соматические клетки, тыс/см3</th>\n",
       "    </tr>\n",
       "  </thead>\n",
       "  <tbody>\n",
       "    <tr>\n",
       "      <th>0</th>\n",
       "      <td>1</td>\n",
       "      <td>5523</td>\n",
       "      <td>7.86</td>\n",
       "      <td>4.02</td>\n",
       "      <td>3.85</td>\n",
       "      <td>4.78</td>\n",
       "      <td>17.54</td>\n",
       "      <td>9.77</td>\n",
       "      <td>6.46</td>\n",
       "      <td>35.0</td>\n",
       "      <td>0.0</td>\n",
       "      <td>0.01</td>\n",
       "      <td>3.35</td>\n",
       "      <td>518</td>\n",
       "      <td>52</td>\n",
       "    </tr>\n",
       "    <tr>\n",
       "      <th>1</th>\n",
       "      <td>2</td>\n",
       "      <td>3870</td>\n",
       "      <td>8.82</td>\n",
       "      <td>4.50</td>\n",
       "      <td>4.29</td>\n",
       "      <td>4.79</td>\n",
       "      <td>19.14</td>\n",
       "      <td>10.32</td>\n",
       "      <td>6.50</td>\n",
       "      <td>38.1</td>\n",
       "      <td>0.0</td>\n",
       "      <td>0.00</td>\n",
       "      <td>3.79</td>\n",
       "      <td>546</td>\n",
       "      <td>252</td>\n",
       "    </tr>\n",
       "    <tr>\n",
       "      <th>2</th>\n",
       "      <td>3</td>\n",
       "      <td>4436</td>\n",
       "      <td>6.14</td>\n",
       "      <td>3.71</td>\n",
       "      <td>3.52</td>\n",
       "      <td>4.78</td>\n",
       "      <td>15.38</td>\n",
       "      <td>9.27</td>\n",
       "      <td>6.55</td>\n",
       "      <td>39.7</td>\n",
       "      <td>0.0</td>\n",
       "      <td>0.03</td>\n",
       "      <td>2.98</td>\n",
       "      <td>521</td>\n",
       "      <td>767</td>\n",
       "    </tr>\n",
       "  </tbody>\n",
       "</table>\n",
       "</div>"
      ],
      "text/plain": [
       "   Порядковый номер пробы  Инв. № животного  a-Жир, %  a-Сырой белок, %  \\\n",
       "0                       1              5523      7.86              4.02   \n",
       "1                       2              3870      8.82              4.50   \n",
       "2                       3              4436      6.14              3.71   \n",
       "\n",
       "   a-Истинный белок, %  a-Лактоза, %  a-С.В., %  a-СОМО, %  a-РН, ед.  \\\n",
       "0                 3.85          4.78      17.54       9.77       6.46   \n",
       "1                 4.29          4.79      19.14      10.32       6.50   \n",
       "2                 3.52          4.78      15.38       9.27       6.55   \n",
       "\n",
       "   a-Мочевина, мг%  a-Ацетон, мM/дм3  a-БГБ, мM/дм3  a-Казеин В, %  \\\n",
       "0             35.0               0.0           0.01           3.35   \n",
       "1             38.1               0.0           0.00           3.79   \n",
       "2             39.7               0.0           0.03           2.98   \n",
       "\n",
       "   a-Точка замерзания, 0Cx10-3  a-Соматические клетки, тыс/см3  \n",
       "0                          518                              52  \n",
       "1                          546                             252  \n",
       "2                          521                             767  "
      ]
     },
     "execution_count": 7,
     "metadata": {},
     "output_type": "execute_result"
    }
   ],
   "source": [
    "vr = pd.read_excel('input/Lab1.xlsx')\n",
    "ap = pd.read_excel('input/Lab2.xlsx')\n",
    "\n",
    "vr.head(3)"
   ]
  },
  {
   "cell_type": "code",
   "execution_count": 8,
   "metadata": {},
   "outputs": [],
   "source": [
    "# MERGE results"
   ]
  },
  {
   "cell_type": "code",
   "execution_count": 9,
   "metadata": {},
   "outputs": [
    {
     "data": {
      "text/html": [
       "<div>\n",
       "<style scoped>\n",
       "    .dataframe tbody tr th:only-of-type {\n",
       "        vertical-align: middle;\n",
       "    }\n",
       "\n",
       "    .dataframe tbody tr th {\n",
       "        vertical-align: top;\n",
       "    }\n",
       "\n",
       "    .dataframe thead th {\n",
       "        text-align: right;\n",
       "    }\n",
       "</style>\n",
       "<table border=\"1\" class=\"dataframe\">\n",
       "  <thead>\n",
       "    <tr style=\"text-align: right;\">\n",
       "      <th></th>\n",
       "      <th>№ Пробы</th>\n",
       "      <th>Инв. № животного</th>\n",
       "      <th>жир</th>\n",
       "      <th>белок</th>\n",
       "      <th>лактоза</th>\n",
       "      <th>сух вещ</th>\n",
       "      <th>СОМО</th>\n",
       "      <th>мочевина</th>\n",
       "      <th>ТЗ</th>\n",
       "      <th>ацетон</th>\n",
       "      <th>...</th>\n",
       "      <th>a-Лактоза, %</th>\n",
       "      <th>a-С.В., %</th>\n",
       "      <th>a-СОМО, %</th>\n",
       "      <th>a-РН, ед.</th>\n",
       "      <th>a-Мочевина, мг%</th>\n",
       "      <th>a-Ацетон, мM/дм3</th>\n",
       "      <th>a-БГБ, мM/дм3</th>\n",
       "      <th>a-Казеин В, %</th>\n",
       "      <th>a-Точка замерзания, 0Cx10-3</th>\n",
       "      <th>a-Соматические клетки, тыс/см3</th>\n",
       "    </tr>\n",
       "  </thead>\n",
       "  <tbody>\n",
       "    <tr>\n",
       "      <th>0</th>\n",
       "      <td>1.0</td>\n",
       "      <td>5523.0</td>\n",
       "      <td>7.50</td>\n",
       "      <td>3.91</td>\n",
       "      <td>4.807</td>\n",
       "      <td>17.08</td>\n",
       "      <td>9.51</td>\n",
       "      <td>35.9</td>\n",
       "      <td>557.0</td>\n",
       "      <td>0.00</td>\n",
       "      <td>...</td>\n",
       "      <td>4.78</td>\n",
       "      <td>17.54</td>\n",
       "      <td>9.77</td>\n",
       "      <td>6.46</td>\n",
       "      <td>35.0</td>\n",
       "      <td>0.0</td>\n",
       "      <td>0.01</td>\n",
       "      <td>3.35</td>\n",
       "      <td>518</td>\n",
       "      <td>52</td>\n",
       "    </tr>\n",
       "    <tr>\n",
       "      <th>1</th>\n",
       "      <td>2.0</td>\n",
       "      <td>3870.0</td>\n",
       "      <td>7.64</td>\n",
       "      <td>4.40</td>\n",
       "      <td>4.844</td>\n",
       "      <td>17.80</td>\n",
       "      <td>10.11</td>\n",
       "      <td>36.5</td>\n",
       "      <td>593.0</td>\n",
       "      <td>3.65</td>\n",
       "      <td>...</td>\n",
       "      <td>4.79</td>\n",
       "      <td>19.14</td>\n",
       "      <td>10.32</td>\n",
       "      <td>6.50</td>\n",
       "      <td>38.1</td>\n",
       "      <td>0.0</td>\n",
       "      <td>0.00</td>\n",
       "      <td>3.79</td>\n",
       "      <td>546</td>\n",
       "      <td>252</td>\n",
       "    </tr>\n",
       "  </tbody>\n",
       "</table>\n",
       "<p>2 rows × 25 columns</p>\n",
       "</div>"
      ],
      "text/plain": [
       "   № Пробы  Инв. № животного   жир  белок  лактоза  сух вещ   СОМО  мочевина  \\\n",
       "0      1.0            5523.0  7.50   3.91    4.807    17.08   9.51      35.9   \n",
       "1      2.0            3870.0  7.64   4.40    4.844    17.80  10.11      36.5   \n",
       "\n",
       "      ТЗ  ацетон  ...  a-Лактоза, %  a-С.В., %  a-СОМО, %  a-РН, ед.  \\\n",
       "0  557.0    0.00  ...          4.78      17.54       9.77       6.46   \n",
       "1  593.0    3.65  ...          4.79      19.14      10.32       6.50   \n",
       "\n",
       "   a-Мочевина, мг%  a-Ацетон, мM/дм3  a-БГБ, мM/дм3  a-Казеин В, %  \\\n",
       "0             35.0               0.0           0.01           3.35   \n",
       "1             38.1               0.0           0.00           3.79   \n",
       "\n",
       "   a-Точка замерзания, 0Cx10-3  a-Соматические клетки, тыс/см3  \n",
       "0                          518                              52  \n",
       "1                          546                             252  \n",
       "\n",
       "[2 rows x 25 columns]"
      ]
     },
     "execution_count": 9,
     "metadata": {},
     "output_type": "execute_result"
    }
   ],
   "source": [
    "mre = pd.merge(ap, vr, on=\"Инв. № животного\")\n",
    "mre.head(2)"
   ]
  },
  {
   "cell_type": "markdown",
   "metadata": {},
   "source": [
    "### Create function"
   ]
  },
  {
   "cell_type": "code",
   "execution_count": 53,
   "metadata": {},
   "outputs": [],
   "source": [
    "def linReg(a,b):\n",
    "    \n",
    "    X = mre[[a]].values\n",
    "    y = mre[b].values\n",
    "\n",
    "    slr = LinearRegression()\n",
    "    slr.fit(X, y)\n",
    "    y_pred = slr.predict(X)\n",
    "    \n",
    "    slope, intercept, r_value, p_value, std_err = stats.linregress(mre[a], mre[b])\n",
    "    \n",
    "    plt.figure(figsize=(5, 5),dpi=100)\n",
    "    plt.title(a+'\\n', fontsize=14)\n",
    "\n",
    "    plt.plot(mre[a],mre[b], 'yellow', marker='o', lw=3, \n",
    "         linestyle = 'None', ms=4,  markeredgecolor ='grey')\n",
    "\n",
    "    plt.xlabel('Lab1')\n",
    "    plt.ylabel('Lab2')\n",
    "    \n",
    "    plt.plot(X,y_pred)\n",
    "    \n",
    "    return [print('RealValue = '+str(slope.round(3))+' * Lab1_Value + '+str(intercept.round(2))),\n",
    "           print('Slope = '+str(slope.round(3))+' Intersept = '+str(intercept.round(2))),\n",
    "           print('R2 = '+str(r_value)[0:4]),\n",
    "           plt.savefig('Fat.png',dpi=200)]"
   ]
  },
  {
   "cell_type": "code",
   "execution_count": 74,
   "metadata": {},
   "outputs": [],
   "source": [
    "def linRegCf(a,b):\n",
    "    \n",
    "    X = mre[[a]].values\n",
    "    y = mre[b].values\n",
    "\n",
    "    slr = LinearRegression()\n",
    "    slr.fit(X, y)\n",
    "    y_pred = slr.predict(X)\n",
    "    \n",
    "    slope, intercept, r_value, p_value, std_err = stats.linregress(mre[a], mre[b])\n",
    "        \n",
    "    return [print(a,'\\n'),\n",
    "            print(' Slope = '+str(slope.round(3)),'\\n','Intersept = '+str(intercept.round(2))),\n",
    "            print(' R2 = '+str(r_value)[0:4],'\\n')]"
   ]
  },
  {
   "cell_type": "markdown",
   "metadata": {},
   "source": [
    "### Make plots and calculations"
   ]
  },
  {
   "cell_type": "code",
   "execution_count": 75,
   "metadata": {},
   "outputs": [
    {
     "name": "stdout",
     "output_type": "stream",
     "text": [
      "a-Жир, % \n",
      "\n",
      " Slope = 0.839 \n",
      " Intersept = 0.5\n",
      " R2 = 0.93 \n",
      "\n",
      "a-Истинный белок, % \n",
      "\n",
      " Slope = 0.882 \n",
      " Intersept = 0.57\n",
      " R2 = 0.93 \n",
      "\n",
      "a-Мочевина, мг% \n",
      "\n",
      " Slope = 0.636 \n",
      " Intersept = 6.52\n",
      " R2 = 0.72 \n",
      "\n",
      "a-БГБ, мM/дм3 \n",
      "\n",
      " Slope = 20.202 \n",
      " Intersept = 2.52\n",
      " R2 = 0.21 \n",
      "\n",
      "a-Ацетон, мM/дм3 \n",
      "\n",
      " Slope = 9.29 \n",
      " Intersept = 2.45\n",
      " R2 = 0.25 \n",
      "\n",
      "a-Точка замерзания, 0Cx10-3 \n",
      "\n",
      " Slope = 1.591 \n",
      " Intersept = -263.63\n",
      " R2 = 0.43 \n",
      "\n",
      "a-Лактоза, % \n",
      "\n",
      " Slope = 0.803 \n",
      " Intersept = 1.0\n",
      " R2 = 0.93 \n",
      "\n"
     ]
    },
    {
     "data": {
      "text/plain": [
       "[None, None, None]"
      ]
     },
     "execution_count": 75,
     "metadata": {},
     "output_type": "execute_result"
    }
   ],
   "source": [
    "# Calculate the coefficients for each milk parameter\n",
    "\n",
    "linRegCf('a-Жир, %','жир')\n",
    "linRegCf('a-Истинный белок, %','белок')\n",
    "linRegCf('a-Мочевина, мг%','мочевина')\n",
    "linRegCf('a-БГБ, мM/дм3','БГБ')\n",
    "linRegCf('a-Ацетон, мM/дм3', 'ацетон')\n",
    "linRegCf('a-Точка замерзания, 0Cx10-3','ТЗ')\n",
    "linRegCf('a-Лактоза, %', 'лактоза')"
   ]
  },
  {
   "cell_type": "code",
   "execution_count": 55,
   "metadata": {},
   "outputs": [
    {
     "name": "stdout",
     "output_type": "stream",
     "text": [
      "RealValue = 0.839 * Lab1_Value + 0.5\n",
      "Slope = 0.839 Intersept = 0.5\n",
      "R2 = 0.93\n"
     ]
    },
    {
     "data": {
      "text/plain": [
       "[None, None, None, None]"
      ]
     },
     "execution_count": 55,
     "metadata": {},
     "output_type": "execute_result"
    },
    {
     "data": {
      "image/png": "[encoded data removed]",
      "text/plain": [
       "<Figure size 500x500 with 1 Axes>"
      ]
     },
     "metadata": {},
     "output_type": "display_data"
    }
   ],
   "source": [
    "linReg('a-Жир, %','жир')\n",
    "\n",
    "#linReg('a-Истинный белок, %','белок')\n",
    "#linReg('a-Мочевина, мг%','мочевина')\n",
    "#linReg('a-БГБ, мM/дм3','БГБ')\n",
    "#linReg('a-Ацетон, мM/дм3', 'ацетон')\n",
    "#linReg('a-Точка замерзания, 0Cx10-3','ТЗ')\n",
    "#linReg('a-Лактоза, %', 'лактоза')"
   ]
  },
  {
   "cell_type": "markdown",
   "metadata": {},
   "source": [
    "### Conclusion: \n",
    "We observe a sufficiently high correlation for parameters such as fat, protein and Lactose. <br>\n",
    "We observe a low correlation for parameters BGB, acetone, FPD."
   ]
  },
  {
   "cell_type": "code",
   "execution_count": null,
   "metadata": {},
   "outputs": [],
   "source": []
  }
 ],
 "metadata": {
  "kernelspec": {
   "display_name": "Python 3",
   "language": "python",
   "name": "python3"
  },
  "language_info": {
   "codemirror_mode": {
    "name": "ipython",
    "version": 3
   },
   "file_extension": ".py",
   "mimetype": "text/x-python",
   "name": "python",
   "nbconvert_exporter": "python",
   "pygments_lexer": "ipython3",
   "version": "3.7.0"
  }
 },
 "nbformat": 4,
 "nbformat_minor": 2
}
